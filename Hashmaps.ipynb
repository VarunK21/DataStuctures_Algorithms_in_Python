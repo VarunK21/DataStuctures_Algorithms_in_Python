{
 "cells": [
  {
   "cell_type": "code",
   "execution_count": 1,
   "metadata": {},
   "outputs": [],
   "source": [
    "def GCD(a,b):\n",
    "    if(b==0):\n",
    "        return a\n",
    "    \n",
    "    return GCD(b,a%b)\n"
   ]
  },
  {
   "cell_type": "code",
   "execution_count": 6,
   "metadata": {},
   "outputs": [
    {
     "data": {
      "text/plain": [
       "4"
      ]
     },
     "execution_count": 6,
     "metadata": {},
     "output_type": "execute_result"
    }
   ],
   "source": [
    "GCD(4,0)"
   ]
  },
  {
   "cell_type": "code",
   "execution_count": 11,
   "metadata": {},
   "outputs": [
    {
     "name": "stdout",
     "output_type": "stream",
     "text": [
      "{3: 2, 2: 3, 6: 1, 35: 2, 5: 2, 8: 1, 7: 1, 4: 1}\n",
      "35\n",
      "[1, 5, 7, 35]\n",
      "[2, 3, 4, 5, 6, 7, 8, 35]\n"
     ]
    },
    {
     "data": {
      "text/plain": [
       "-1"
      ]
     },
     "execution_count": 11,
     "metadata": {},
     "output_type": "execute_result"
    }
   ],
   "source": [
    "def minOperations(nums, numsDivide):\n",
    "    import math\n",
    "\n",
    "    def Factors(n):\n",
    "        factors=[]\n",
    "        for i in range(1,int(math.sqrt(n))+1):\n",
    "            if(n%i==0):\n",
    "                if(i!=n//i):\n",
    "                    factors.append(i)\n",
    "                    factors.append(n//i)\n",
    "                else:\n",
    "                    factors.append(i)\n",
    "                \n",
    "\n",
    "        return factors\n",
    "\n",
    "    def GCD(a,b):\n",
    "        if(b==0):\n",
    "            return a\n",
    "        return GCD(b,a%b)\n",
    "\n",
    "    gcd_of_arr=GCD(numsDivide[0],numsDivide[1])\n",
    "    \n",
    "    for i in range(2,len(numsDivide)):\n",
    "        gcd_of_arr=GCD(gcd_of_arr,numsDivide[i])\n",
    "\n",
    "    factors_of_gcd=[]\n",
    "    factors_of_gcd=Factors(gcd_of_arr)\n",
    "\n",
    "    mp={}\n",
    "    for i in range(len(nums)):\n",
    "        mp[nums[i]]=1+mp.get(nums[i],0)\n",
    "\n",
    "    print(mp)\n",
    "    print(gcd_of_arr)\n",
    "    factors_of_gcd=sorted(factors_of_gcd)\n",
    "\n",
    "    print(factors_of_gcd)\n",
    "    p=(sorted(mp))\n",
    "    min_deletions=len(nums)+1\n",
    "\n",
    "    for i in factors_of_gcd:\n",
    "        if(mp.get(i,0)!=0):\n",
    "            min_deletions=min(min_deletions,mp[i])\n",
    "        else:\n",
    "            break\n",
    "\n",
    "    if(min_deletions==len(nums)+1):\n",
    "        return -1\n",
    "\n",
    "    return min_deletions\n",
    "    \n",
    "nums = [3,2,6,2,35,5,35,2,5,8,7,3,4]\n",
    "numsDivide = [105,70,70,175,105,105,105]\n",
    "minOperations(nums,numsDivide)\n",
    "\n",
    "    "
   ]
  },
  {
   "cell_type": "code",
   "execution_count": 14,
   "metadata": {},
   "outputs": [
    {
     "name": "stdout",
     "output_type": "stream",
     "text": [
      "-1\n",
      "{0: -1}\n",
      "-2\n",
      "{0: -1, -1: 0}\n",
      "-1\n",
      "{0: -1, -1: 0, -2: 1}\n",
      "2\n"
     ]
    },
    {
     "data": {
      "text/plain": [
       "2"
      ]
     },
     "execution_count": 14,
     "metadata": {},
     "output_type": "execute_result"
    }
   ],
   "source": [
    "def findMaxLength(nums):\n",
    "    d={}\n",
    "    d[0]=-1\n",
    "    sm=0\n",
    "    max_len=0\n",
    "    for i in range(len(nums)):\n",
    "        sm=sm + (1 if nums[i] else -1)\n",
    "        print(sm)\n",
    "        print(d)\n",
    "        if(d.get(sm,None)!=None):\n",
    "            print(i)\n",
    "            max_len=max(max_len,i-d[sm])\n",
    "        else:\n",
    "            d[sm]=i\n",
    "    \n",
    "    if(d.get(sm,0)):\n",
    "        max_len=max(max_len,i-d[sm])\n",
    "\n",
    "    return max_len\n",
    "\n",
    "findMaxLength([0,0,1])"
   ]
  },
  {
   "cell_type": "code",
   "execution_count": null,
   "metadata": {},
   "outputs": [],
   "source": []
  }
 ],
 "metadata": {
  "kernelspec": {
   "display_name": "Python 3",
   "language": "python",
   "name": "python3"
  },
  "language_info": {
   "codemirror_mode": {
    "name": "ipython",
    "version": 3
   },
   "file_extension": ".py",
   "mimetype": "text/x-python",
   "name": "python",
   "nbconvert_exporter": "python",
   "pygments_lexer": "ipython3",
   "version": "3.10.13"
  }
 },
 "nbformat": 4,
 "nbformat_minor": 2
}
